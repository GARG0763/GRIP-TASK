{
 "cells": [
  {
   "cell_type": "markdown",
   "id": "0006473a",
   "metadata": {},
   "source": [
    "# TSF GRIP TASK-1 : Prediction Using Supervised Machine Learning"
   ]
  },
  {
   "cell_type": "markdown",
   "id": "1add30dd",
   "metadata": {},
   "source": [
    "## Linear Regression Model to Predict the Percentage of a student based on the Number of Study Hours"
   ]
  },
  {
   "cell_type": "markdown",
   "id": "749b4c90",
   "metadata": {},
   "source": [
    "### THE DATAFRAME WIILL BE FOUND HERE : [DATASET](http://bit.ly/w-data 'Hour vs Percentage Dataset')"
   ]
  },
  {
   "cell_type": "markdown",
   "id": "1d3f3b4b",
   "metadata": {},
   "source": [
    "## Author : KAPIL GARG"
   ]
  },
  {
   "cell_type": "markdown",
   "id": "56f975b3",
   "metadata": {},
   "source": [
    "### Importing all required Libraries "
   ]
  },
  {
   "cell_type": "code",
   "execution_count": 1,
   "id": "1f85b5bb",
   "metadata": {},
   "outputs": [],
   "source": [
    "import numpy as np\n",
    "import pandas as pd\n",
    "import matplotlib.pyplot as plt\n",
    "import seaborn as sns\n",
    "import sklearn\n",
    "from sklearn.model_selection import train_test_split\n",
    "from sklearn.linear_model import LinearRegression\n",
    "from sklearn.metrics import r2_score"
   ]
  },
  {
   "cell_type": "markdown",
   "id": "aa6c960b",
   "metadata": {},
   "source": [
    "### Reading and Understanding the Data"
   ]
  },
  {
   "cell_type": "code",
   "execution_count": 2,
   "id": "5da0ee44",
   "metadata": {},
   "outputs": [],
   "source": [
    "df=pd.read_csv('http://bit.ly/w-data')"
   ]
  },
  {
   "cell_type": "code",
   "execution_count": 3,
   "id": "de5f3d52",
   "metadata": {},
   "outputs": [
    {
     "data": {
      "text/html": [
       "<div>\n",
       "<style scoped>\n",
       "    .dataframe tbody tr th:only-of-type {\n",
       "        vertical-align: middle;\n",
       "    }\n",
       "\n",
       "    .dataframe tbody tr th {\n",
       "        vertical-align: top;\n",
       "    }\n",
       "\n",
       "    .dataframe thead th {\n",
       "        text-align: right;\n",
       "    }\n",
       "</style>\n",
       "<table border=\"1\" class=\"dataframe\">\n",
       "  <thead>\n",
       "    <tr style=\"text-align: right;\">\n",
       "      <th></th>\n",
       "      <th>Hours</th>\n",
       "      <th>Scores</th>\n",
       "    </tr>\n",
       "  </thead>\n",
       "  <tbody>\n",
       "    <tr>\n",
       "      <th>0</th>\n",
       "      <td>2.5</td>\n",
       "      <td>21</td>\n",
       "    </tr>\n",
       "    <tr>\n",
       "      <th>1</th>\n",
       "      <td>5.1</td>\n",
       "      <td>47</td>\n",
       "    </tr>\n",
       "    <tr>\n",
       "      <th>2</th>\n",
       "      <td>3.2</td>\n",
       "      <td>27</td>\n",
       "    </tr>\n",
       "    <tr>\n",
       "      <th>3</th>\n",
       "      <td>8.5</td>\n",
       "      <td>75</td>\n",
       "    </tr>\n",
       "    <tr>\n",
       "      <th>4</th>\n",
       "      <td>3.5</td>\n",
       "      <td>30</td>\n",
       "    </tr>\n",
       "  </tbody>\n",
       "</table>\n",
       "</div>"
      ],
      "text/plain": [
       "   Hours  Scores\n",
       "0    2.5      21\n",
       "1    5.1      47\n",
       "2    3.2      27\n",
       "3    8.5      75\n",
       "4    3.5      30"
      ]
     },
     "execution_count": 3,
     "metadata": {},
     "output_type": "execute_result"
    }
   ],
   "source": [
    "df.head()"
   ]
  },
  {
   "cell_type": "code",
   "execution_count": 4,
   "id": "8dad7ca4",
   "metadata": {},
   "outputs": [
    {
     "data": {
      "text/plain": [
       "(25, 2)"
      ]
     },
     "execution_count": 4,
     "metadata": {},
     "output_type": "execute_result"
    }
   ],
   "source": [
    "df.shape"
   ]
  },
  {
   "cell_type": "markdown",
   "id": "2e3dbf16",
   "metadata": {},
   "source": [
    "#### Checking is there any missing value in any column"
   ]
  },
  {
   "cell_type": "code",
   "execution_count": 5,
   "id": "1f356c7e",
   "metadata": {},
   "outputs": [
    {
     "name": "stdout",
     "output_type": "stream",
     "text": [
      "<class 'pandas.core.frame.DataFrame'>\n",
      "RangeIndex: 25 entries, 0 to 24\n",
      "Data columns (total 2 columns):\n",
      " #   Column  Non-Null Count  Dtype  \n",
      "---  ------  --------------  -----  \n",
      " 0   Hours   25 non-null     float64\n",
      " 1   Scores  25 non-null     int64  \n",
      "dtypes: float64(1), int64(1)\n",
      "memory usage: 528.0 bytes\n"
     ]
    }
   ],
   "source": [
    "df.info()"
   ]
  },
  {
   "cell_type": "markdown",
   "id": "28de1826",
   "metadata": {},
   "source": [
    "##### Since total numbers of rows are 25 and there are ` 25 non-null ` values in every column so there is no missing value in the given dataset"
   ]
  },
  {
   "cell_type": "code",
   "execution_count": 6,
   "id": "ce2585bb",
   "metadata": {},
   "outputs": [
    {
     "data": {
      "text/html": [
       "<div>\n",
       "<style scoped>\n",
       "    .dataframe tbody tr th:only-of-type {\n",
       "        vertical-align: middle;\n",
       "    }\n",
       "\n",
       "    .dataframe tbody tr th {\n",
       "        vertical-align: top;\n",
       "    }\n",
       "\n",
       "    .dataframe thead th {\n",
       "        text-align: right;\n",
       "    }\n",
       "</style>\n",
       "<table border=\"1\" class=\"dataframe\">\n",
       "  <thead>\n",
       "    <tr style=\"text-align: right;\">\n",
       "      <th></th>\n",
       "      <th>Hours</th>\n",
       "      <th>Scores</th>\n",
       "    </tr>\n",
       "  </thead>\n",
       "  <tbody>\n",
       "    <tr>\n",
       "      <th>count</th>\n",
       "      <td>25.000000</td>\n",
       "      <td>25.000000</td>\n",
       "    </tr>\n",
       "    <tr>\n",
       "      <th>mean</th>\n",
       "      <td>5.012000</td>\n",
       "      <td>51.480000</td>\n",
       "    </tr>\n",
       "    <tr>\n",
       "      <th>std</th>\n",
       "      <td>2.525094</td>\n",
       "      <td>25.286887</td>\n",
       "    </tr>\n",
       "    <tr>\n",
       "      <th>min</th>\n",
       "      <td>1.100000</td>\n",
       "      <td>17.000000</td>\n",
       "    </tr>\n",
       "    <tr>\n",
       "      <th>25%</th>\n",
       "      <td>2.700000</td>\n",
       "      <td>30.000000</td>\n",
       "    </tr>\n",
       "    <tr>\n",
       "      <th>50%</th>\n",
       "      <td>4.800000</td>\n",
       "      <td>47.000000</td>\n",
       "    </tr>\n",
       "    <tr>\n",
       "      <th>75%</th>\n",
       "      <td>7.400000</td>\n",
       "      <td>75.000000</td>\n",
       "    </tr>\n",
       "    <tr>\n",
       "      <th>max</th>\n",
       "      <td>9.200000</td>\n",
       "      <td>95.000000</td>\n",
       "    </tr>\n",
       "  </tbody>\n",
       "</table>\n",
       "</div>"
      ],
      "text/plain": [
       "           Hours     Scores\n",
       "count  25.000000  25.000000\n",
       "mean    5.012000  51.480000\n",
       "std     2.525094  25.286887\n",
       "min     1.100000  17.000000\n",
       "25%     2.700000  30.000000\n",
       "50%     4.800000  47.000000\n",
       "75%     7.400000  75.000000\n",
       "max     9.200000  95.000000"
      ]
     },
     "execution_count": 6,
     "metadata": {},
     "output_type": "execute_result"
    }
   ],
   "source": [
    "df.describe()"
   ]
  },
  {
   "cell_type": "markdown",
   "id": "6d8e32d1",
   "metadata": {},
   "source": [
    "### Visualization of the Data"
   ]
  },
  {
   "cell_type": "code",
   "execution_count": 7,
   "id": "517fd087",
   "metadata": {},
   "outputs": [
    {
     "data": {
      "text/plain": [
       "Text(0.5, 1.0, 'Hours vs Scores Graph')"
      ]
     },
     "execution_count": 7,
     "metadata": {},
     "output_type": "execute_result"
    },
    {
     "data": {
      "image/png": "[encoded data removed]",
      "text/plain": [
       "<Figure size 432x288 with 1 Axes>"
      ]
     },
     "metadata": {
      "needs_background": "light"
     },
     "output_type": "display_data"
    }
   ],
   "source": [
    "plt.scatter(x='Hours',y='Scores',data=df)\n",
    "plt.xlabel('Hours',fontsize=15)\n",
    "plt.ylabel('Scores',fontsize=15)\n",
    "plt.title('Hours vs Scores Graph',fontsize=18)"
   ]
  },
  {
   "cell_type": "markdown",
   "id": "0e6fd7c0",
   "metadata": {},
   "source": [
    "### Spliting the data set into Training and Test sets"
   ]
  },
  {
   "cell_type": "code",
   "execution_count": 8,
   "id": "958cabc0",
   "metadata": {},
   "outputs": [],
   "source": [
    "df_train,df_test=train_test_split(df,train_size=0.8,random_state=10)"
   ]
  },
  {
   "cell_type": "markdown",
   "id": "ff43ece8",
   "metadata": {},
   "source": [
    "### Building the Linear Regression Model for Training Set"
   ]
  },
  {
   "cell_type": "code",
   "execution_count": 9,
   "id": "58a911de",
   "metadata": {},
   "outputs": [],
   "source": [
    "X_train=df_train['Hours']\n",
    "y_train=df_train['Scores']"
   ]
  },
  {
   "cell_type": "code",
   "execution_count": 10,
   "id": "c3f89f8a",
   "metadata": {},
   "outputs": [
    {
     "data": {
      "text/plain": [
       "(20,)"
      ]
     },
     "execution_count": 10,
     "metadata": {},
     "output_type": "execute_result"
    }
   ],
   "source": [
    "X_train.shape"
   ]
  },
  {
   "cell_type": "code",
   "execution_count": 11,
   "id": "3709c471",
   "metadata": {},
   "outputs": [],
   "source": [
    "lm=LinearRegression()"
   ]
  },
  {
   "cell_type": "code",
   "execution_count": 12,
   "id": "ef1db795",
   "metadata": {},
   "outputs": [],
   "source": [
    "X_train_lm=X_train.values.reshape(-1,1)"
   ]
  },
  {
   "cell_type": "code",
   "execution_count": 13,
   "id": "1aa3e8bc",
   "metadata": {},
   "outputs": [
    {
     "data": {
      "text/plain": [
       "(20, 1)"
      ]
     },
     "execution_count": 13,
     "metadata": {},
     "output_type": "execute_result"
    }
   ],
   "source": [
    "X_train_lm.shape"
   ]
  },
  {
   "cell_type": "code",
   "execution_count": 14,
   "id": "39c4a975",
   "metadata": {},
   "outputs": [
    {
     "data": {
      "text/plain": [
       "LinearRegression()"
      ]
     },
     "execution_count": 14,
     "metadata": {},
     "output_type": "execute_result"
    }
   ],
   "source": [
    "lm.fit(X_train_lm,y_train)"
   ]
  },
  {
   "cell_type": "code",
   "execution_count": 15,
   "id": "f9d51729",
   "metadata": {},
   "outputs": [
    {
     "data": {
      "text/plain": [
       "0.9580702244504199"
      ]
     },
     "execution_count": 15,
     "metadata": {},
     "output_type": "execute_result"
    }
   ],
   "source": [
    "lm.score(X_train_lm,y_train)"
   ]
  },
  {
   "cell_type": "code",
   "execution_count": 16,
   "id": "3a76cc15",
   "metadata": {},
   "outputs": [
    {
     "name": "stdout",
     "output_type": "stream",
     "text": [
      "Intercept is  9.814305443007639\n"
     ]
    }
   ],
   "source": [
    "b_1=lm.coef_\n",
    "print('Intercept is ',b_1[0])"
   ]
  },
  {
   "cell_type": "code",
   "execution_count": 17,
   "id": "21351e74",
   "metadata": {},
   "outputs": [
    {
     "name": "stdout",
     "output_type": "stream",
     "text": [
      "Slope is  2.649965189403865\n"
     ]
    }
   ],
   "source": [
    "b_0=lm.intercept_\n",
    "print('Slope is ',b_0)"
   ]
  },
  {
   "cell_type": "markdown",
   "id": "35c26039",
   "metadata": {},
   "source": [
    "### The Linear Regression Model is\n",
    "###    Scores = 9.814305443007639 +(2.649965189403865 *  Hours)"
   ]
  },
  {
   "cell_type": "markdown",
   "id": "998f95f6",
   "metadata": {},
   "source": [
    "### Prediction on the Training Set"
   ]
  },
  {
   "cell_type": "code",
   "execution_count": 18,
   "id": "9083a515",
   "metadata": {},
   "outputs": [],
   "source": [
    "y_train_pred=lm.predict(X_train_lm)"
   ]
  },
  {
   "cell_type": "code",
   "execution_count": 19,
   "id": "604e2f1d",
   "metadata": {},
   "outputs": [
    {
     "data": {
      "text/plain": [
       "array([75.27582547, 13.44570118, 56.62864513, 60.5543673 , 39.94432587,\n",
       "       86.07156145, 70.36867275, 92.94157527, 62.51722839, 78.2201171 ,\n",
       "       49.75863132, 79.20154764, 84.10870037, 29.14858989, 27.1857288 ,\n",
       "       21.29714553, 27.1857288 , 89.99728363, 37.00003424, 29.14858989])"
      ]
     },
     "execution_count": 19,
     "metadata": {},
     "output_type": "execute_result"
    }
   ],
   "source": [
    "y_train_pred"
   ]
  },
  {
   "cell_type": "code",
   "execution_count": 20,
   "id": "5972ba71",
   "metadata": {},
   "outputs": [
    {
     "data": {
      "image/png": "[encoded data removed]",
      "text/plain": [
       "<Figure size 432x288 with 1 Axes>"
      ]
     },
     "metadata": {
      "needs_background": "light"
     },
     "output_type": "display_data"
    }
   ],
   "source": [
    "plt.scatter(X_train,y_train)\n",
    "plt.plot(X_train,y_train_pred,'r')\n",
    "plt.xlabel('Hours',fontsize=15)\n",
    "plt.ylabel('Scores',fontsize=15)\n",
    "plt.show()"
   ]
  },
  {
   "cell_type": "markdown",
   "id": "35639228",
   "metadata": {},
   "source": [
    "### Testing the Linear Regression Model for Test Set"
   ]
  },
  {
   "cell_type": "code",
   "execution_count": 21,
   "id": "d35b4f62",
   "metadata": {},
   "outputs": [],
   "source": [
    "X_test=df['Hours']\n",
    "y_test=df['Scores']"
   ]
  },
  {
   "cell_type": "code",
   "execution_count": 22,
   "id": "f16db725",
   "metadata": {},
   "outputs": [],
   "source": [
    "X_test_lm=X_test.values.reshape(-1,1)"
   ]
  },
  {
   "cell_type": "code",
   "execution_count": 23,
   "id": "42b39360",
   "metadata": {},
   "outputs": [],
   "source": [
    "y_test_pred=lm.predict(X_test_lm)"
   ]
  },
  {
   "cell_type": "code",
   "execution_count": 24,
   "id": "07b9c514",
   "metadata": {},
   "outputs": [
    {
     "data": {
      "text/plain": [
       "array([27.1857288 , 52.70292295, 34.05574261, 86.07156145, 37.00003424,\n",
       "       17.37142335, 92.94157527, 56.62864513, 84.10870037, 29.14858989,\n",
       "       78.2201171 , 60.5543673 , 46.81433968, 35.03717315, 13.44570118,\n",
       "       89.99728363, 27.1857288 , 21.29714553, 62.51722839, 75.27582547,\n",
       "       29.14858989, 49.75863132, 39.94432587, 70.36867275, 79.20154764])"
      ]
     },
     "execution_count": 24,
     "metadata": {},
     "output_type": "execute_result"
    }
   ],
   "source": [
    "y_test_pred"
   ]
  },
  {
   "cell_type": "code",
   "execution_count": 25,
   "id": "13a66005",
   "metadata": {},
   "outputs": [
    {
     "data": {
      "image/png": "[encoded data removed]",
      "text/plain": [
       "<Figure size 432x288 with 1 Axes>"
      ]
     },
     "metadata": {
      "needs_background": "light"
     },
     "output_type": "display_data"
    }
   ],
   "source": [
    "plt.scatter(X_test,y_test)\n",
    "plt.plot(X_test,y_test_pred,'r')\n",
    "plt.xlabel('Hours',fontsize=15)\n",
    "plt.ylabel('Scores',fontsize=15)\n",
    "plt.show()"
   ]
  },
  {
   "cell_type": "markdown",
   "id": "cfd0bf47",
   "metadata": {},
   "source": [
    "### R-Squared for Training Set"
   ]
  },
  {
   "cell_type": "code",
   "execution_count": 26,
   "id": "6e913f35",
   "metadata": {},
   "outputs": [
    {
     "data": {
      "text/plain": [
       "0.9580702244504199"
      ]
     },
     "execution_count": 26,
     "metadata": {},
     "output_type": "execute_result"
    }
   ],
   "source": [
    "r2_score(y_train,y_train_pred)"
   ]
  },
  {
   "cell_type": "markdown",
   "id": "0c91f0fe",
   "metadata": {},
   "source": [
    "### R-Squared for Testing Set"
   ]
  },
  {
   "cell_type": "code",
   "execution_count": 27,
   "id": "12b4bdbf",
   "metadata": {},
   "outputs": [
    {
     "data": {
      "text/plain": [
       "0.9527231506160442"
      ]
     },
     "execution_count": 27,
     "metadata": {},
     "output_type": "execute_result"
    }
   ],
   "source": [
    "r2_score(y_test,y_test_pred)"
   ]
  },
  {
   "cell_type": "markdown",
   "id": "5e4beb35",
   "metadata": {},
   "source": [
    "## Predicting Score using `Linear Regression Model` if a student studies for `9.25 hrs/day`"
   ]
  },
  {
   "cell_type": "code",
   "execution_count": 28,
   "id": "3caca3d3",
   "metadata": {},
   "outputs": [
    {
     "name": "stdout",
     "output_type": "stream",
     "text": [
      "Predicted score if a student studies for 9.25 hrs/ day is 93.43229053722453\n"
     ]
    }
   ],
   "source": [
    "pred_value=lm.predict([[9.25]])\n",
    "print('Predicted score if a student studies for 9.25 hrs/ day is',pred_value[0])"
   ]
  },
  {
   "cell_type": "markdown",
   "id": "df69f9b2",
   "metadata": {},
   "source": [
    "## Hence the Predicted Score is 93.43229053722453"
   ]
  },
  {
   "cell_type": "markdown",
   "id": "0042f98c",
   "metadata": {},
   "source": [
    "## Thank You"
   ]
  },
  {
   "cell_type": "code",
   "execution_count": null,
   "id": "bc8d04bf",
   "metadata": {},
   "outputs": [],
   "source": []
  }
 ],
 "metadata": {
  "kernelspec": {
   "display_name": "Python 3",
   "language": "python",
   "name": "python3"
  },
  "language_info": {
   "codemirror_mode": {
    "name": "ipython",
    "version": 3
   },
   "file_extension": ".py",
   "mimetype": "text/x-python",
   "name": "python",
   "nbconvert_exporter": "python",
   "pygments_lexer": "ipython3",
   "version": "3.9.1"
  }
 },
 "nbformat": 4,
 "nbformat_minor": 5
}
